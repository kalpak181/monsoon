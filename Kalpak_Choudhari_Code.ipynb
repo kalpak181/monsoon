{
 "cells": [
  {
   "cell_type": "code",
   "execution_count": 1,
   "id": "4ada26d0",
   "metadata": {},
   "outputs": [],
   "source": [
    "import pandas as pd\n",
    "import numpy as np\n",
    "import re\n",
    "from pandas import json_normalize\n",
    "import json\n",
    "import matplotlib.pyplot as plt\n",
    "from sklearn.preprocessing import StandardScaler\n",
    "from sklearn.metrics import roc_auc_score, auc, roc_curve, accuracy_score, confusion_matrix, precision_score, recall_score\n",
    "import sklearn.metrics as metrics\n",
    "from sklearn.model_selection import train_test_split\n",
    "from sklearn.model_selection import GridSearchCV\n",
    "from sklearn.preprocessing import StandardScaler\n",
    "from sklearn.linear_model import LogisticRegression\n",
    "from sklearn.ensemble import RandomForestClassifier\n",
    "from sklearn.pipeline import make_pipeline\n",
    "import xgboost as xgb\n",
    "import warnings\n",
    "warnings.filterwarnings('ignore')"
   ]
  },
  {
   "cell_type": "code",
   "execution_count": 2,
   "id": "a9f1ba4b",
   "metadata": {},
   "outputs": [
    {
     "data": {
      "text/html": [
       "<div>\n",
       "<style scoped>\n",
       "    .dataframe tbody tr th:only-of-type {\n",
       "        vertical-align: middle;\n",
       "    }\n",
       "\n",
       "    .dataframe tbody tr th {\n",
       "        vertical-align: top;\n",
       "    }\n",
       "\n",
       "    .dataframe thead th {\n",
       "        text-align: right;\n",
       "    }\n",
       "</style>\n",
       "<table border=\"1\" class=\"dataframe\">\n",
       "  <thead>\n",
       "    <tr style=\"text-align: right;\">\n",
       "      <th></th>\n",
       "      <th>uid</th>\n",
       "      <th>NAME_CONTRACT_TYPE</th>\n",
       "      <th>TARGET</th>\n",
       "    </tr>\n",
       "  </thead>\n",
       "  <tbody>\n",
       "    <tr>\n",
       "      <th>160539</th>\n",
       "      <td>AAA08065248</td>\n",
       "      <td>revolving loans</td>\n",
       "      <td>0</td>\n",
       "    </tr>\n",
       "    <tr>\n",
       "      <th>70453</th>\n",
       "      <td>AAA09044550</td>\n",
       "      <td>cash loans</td>\n",
       "      <td>0</td>\n",
       "    </tr>\n",
       "  </tbody>\n",
       "</table>\n",
       "</div>"
      ],
      "text/plain": [
       "                uid NAME_CONTRACT_TYPE  TARGET\n",
       "160539  AAA08065248    revolving loans       0\n",
       "70453   AAA09044550         cash loans       0"
      ]
     },
     "execution_count": 2,
     "metadata": {},
     "output_type": "execute_result"
    }
   ],
   "source": [
    "flag = pd.read_csv(\"./data/train/train_flag.csv\")\n",
    "flag.NAME_CONTRACT_TYPE = flag.NAME_CONTRACT_TYPE.str.strip()\n",
    "flag.NAME_CONTRACT_TYPE = flag.NAME_CONTRACT_TYPE.str.lower()\n",
    "flag = flag.sort_values([\"uid\"])\n",
    "flag.head(2)"
   ]
  },
  {
   "cell_type": "code",
   "execution_count": 3,
   "id": "98a9cabd",
   "metadata": {
    "scrolled": true
   },
   "outputs": [
    {
     "data": {
      "text/html": [
       "<div>\n",
       "<style scoped>\n",
       "    .dataframe tbody tr th:only-of-type {\n",
       "        vertical-align: middle;\n",
       "    }\n",
       "\n",
       "    .dataframe tbody tr th {\n",
       "        vertical-align: top;\n",
       "    }\n",
       "\n",
       "    .dataframe thead th {\n",
       "        text-align: right;\n",
       "    }\n",
       "</style>\n",
       "<table border=\"1\" class=\"dataframe\">\n",
       "  <thead>\n",
       "    <tr style=\"text-align: right;\">\n",
       "      <th></th>\n",
       "      <th>credit_type</th>\n",
       "      <th>loan_amount</th>\n",
       "      <th>amount_overdue</th>\n",
       "      <th>open_date</th>\n",
       "      <th>closed_date</th>\n",
       "      <th>payment_hist_string</th>\n",
       "      <th>uid</th>\n",
       "    </tr>\n",
       "  </thead>\n",
       "  <tbody>\n",
       "    <tr>\n",
       "      <th>0</th>\n",
       "      <td>consumer credit</td>\n",
       "      <td>272745.0</td>\n",
       "      <td>0.0</td>\n",
       "      <td>2018-09-22</td>\n",
       "      <td>2020-02-22</td>\n",
       "      <td>0000000000000000000000100000000000000000000000...</td>\n",
       "      <td>AAA09044550</td>\n",
       "    </tr>\n",
       "    <tr>\n",
       "      <th>1</th>\n",
       "      <td>consumer credit</td>\n",
       "      <td>4500.0</td>\n",
       "      <td>0.0</td>\n",
       "      <td>2018-03-08</td>\n",
       "      <td>2019-07-25</td>\n",
       "      <td>000000000000000014044000000000000000000000000000</td>\n",
       "      <td>AAA09044550</td>\n",
       "    </tr>\n",
       "  </tbody>\n",
       "</table>\n",
       "</div>"
      ],
      "text/plain": [
       "       credit_type  loan_amount  amount_overdue  open_date closed_date  \\\n",
       "0  consumer credit     272745.0             0.0 2018-09-22  2020-02-22   \n",
       "1  consumer credit       4500.0             0.0 2018-03-08  2019-07-25   \n",
       "\n",
       "                                 payment_hist_string          uid  \n",
       "0  0000000000000000000000100000000000000000000000...  AAA09044550  \n",
       "1   000000000000000014044000000000000000000000000000  AAA09044550  "
      ]
     },
     "execution_count": 3,
     "metadata": {},
     "output_type": "execute_result"
    }
   ],
   "source": [
    "with open(\"./data/train/accounts_data_train.json\", \"r\") as file:\n",
    "    data = json.load(file)\n",
    "\n",
    "flattened_data = [item for sublist in data for item in sublist]\n",
    "account = json_normalize(flattened_data)\n",
    "\n",
    "account[\"open_date\"] = pd.to_datetime(account[\"open_date\"])\n",
    "account[\"closed_date\"] = pd.to_datetime(account[\"closed_date\"])\n",
    "account.credit_type = account.credit_type.str.strip()\n",
    "account.credit_type = account.credit_type.str.lower()\n",
    "account.head(2)"
   ]
  },
  {
   "cell_type": "code",
   "execution_count": 4,
   "id": "76745a37",
   "metadata": {},
   "outputs": [
    {
     "data": {
      "text/html": [
       "<div>\n",
       "<style scoped>\n",
       "    .dataframe tbody tr th:only-of-type {\n",
       "        vertical-align: middle;\n",
       "    }\n",
       "\n",
       "    .dataframe tbody tr th {\n",
       "        vertical-align: top;\n",
       "    }\n",
       "\n",
       "    .dataframe thead th {\n",
       "        text-align: right;\n",
       "    }\n",
       "</style>\n",
       "<table border=\"1\" class=\"dataframe\">\n",
       "  <thead>\n",
       "    <tr style=\"text-align: right;\">\n",
       "      <th></th>\n",
       "      <th>credit_type</th>\n",
       "      <th>loan_amount</th>\n",
       "      <th>amount_overdue</th>\n",
       "      <th>open_date</th>\n",
       "      <th>closed_date</th>\n",
       "      <th>payment_hist_string</th>\n",
       "      <th>uid</th>\n",
       "      <th>missed_due_dates</th>\n",
       "    </tr>\n",
       "  </thead>\n",
       "  <tbody>\n",
       "    <tr>\n",
       "      <th>0</th>\n",
       "      <td>consumer credit</td>\n",
       "      <td>272745.0</td>\n",
       "      <td>0.0</td>\n",
       "      <td>2018-09-22</td>\n",
       "      <td>2020-02-22</td>\n",
       "      <td>0000000000000000000000100000000000000000000000...</td>\n",
       "      <td>AAA09044550</td>\n",
       "      <td>1</td>\n",
       "    </tr>\n",
       "    <tr>\n",
       "      <th>1</th>\n",
       "      <td>consumer credit</td>\n",
       "      <td>4500.0</td>\n",
       "      <td>0.0</td>\n",
       "      <td>2018-03-08</td>\n",
       "      <td>2019-07-25</td>\n",
       "      <td>000000000000000014044000000000000000000000000000</td>\n",
       "      <td>AAA09044550</td>\n",
       "      <td>2</td>\n",
       "    </tr>\n",
       "  </tbody>\n",
       "</table>\n",
       "</div>"
      ],
      "text/plain": [
       "       credit_type  loan_amount  amount_overdue  open_date closed_date  \\\n",
       "0  consumer credit     272745.0             0.0 2018-09-22  2020-02-22   \n",
       "1  consumer credit       4500.0             0.0 2018-03-08  2019-07-25   \n",
       "\n",
       "                                 payment_hist_string          uid  \\\n",
       "0  0000000000000000000000100000000000000000000000...  AAA09044550   \n",
       "1   000000000000000014044000000000000000000000000000  AAA09044550   \n",
       "\n",
       "   missed_due_dates  \n",
       "0                 1  \n",
       "1                 2  "
      ]
     },
     "execution_count": 4,
     "metadata": {},
     "output_type": "execute_result"
    }
   ],
   "source": [
    "# Calculate Number Missed Due Dates\n",
    "\n",
    "def count_missed_due_dates(payment_hist_string):\n",
    "    count=0\n",
    "    if pd.isna(payment_hist_string):\n",
    "        return 0\n",
    "    for i in range(0,len(payment_hist_string),3):\n",
    "        if payment_hist_string[i:i+3]!=\"000\":\n",
    "            count+=1\n",
    "    return count\n",
    "\n",
    "account['missed_due_dates'] = account['payment_hist_string'].apply(count_missed_due_dates)\n",
    "account.head(2)"
   ]
  },
  {
   "cell_type": "code",
   "execution_count": 5,
   "id": "d5f0970f",
   "metadata": {},
   "outputs": [
    {
     "data": {
      "text/html": [
       "<div>\n",
       "<style scoped>\n",
       "    .dataframe tbody tr th:only-of-type {\n",
       "        vertical-align: middle;\n",
       "    }\n",
       "\n",
       "    .dataframe tbody tr th {\n",
       "        vertical-align: top;\n",
       "    }\n",
       "\n",
       "    .dataframe thead th {\n",
       "        text-align: right;\n",
       "    }\n",
       "</style>\n",
       "<table border=\"1\" class=\"dataframe\">\n",
       "  <thead>\n",
       "    <tr style=\"text-align: right;\">\n",
       "      <th></th>\n",
       "      <th>credit_type</th>\n",
       "      <th>loan_amount</th>\n",
       "      <th>amount_overdue</th>\n",
       "      <th>open_date</th>\n",
       "      <th>closed_date</th>\n",
       "      <th>payment_hist_string</th>\n",
       "      <th>uid</th>\n",
       "      <th>missed_due_dates</th>\n",
       "      <th>loan_duration</th>\n",
       "    </tr>\n",
       "  </thead>\n",
       "  <tbody>\n",
       "    <tr>\n",
       "      <th>0</th>\n",
       "      <td>consumer credit</td>\n",
       "      <td>272745.0</td>\n",
       "      <td>0.0</td>\n",
       "      <td>2018-09-22</td>\n",
       "      <td>2020-02-22</td>\n",
       "      <td>0000000000000000000000100000000000000000000000...</td>\n",
       "      <td>AAA09044550</td>\n",
       "      <td>1</td>\n",
       "      <td>518.0</td>\n",
       "    </tr>\n",
       "    <tr>\n",
       "      <th>1</th>\n",
       "      <td>consumer credit</td>\n",
       "      <td>4500.0</td>\n",
       "      <td>0.0</td>\n",
       "      <td>2018-03-08</td>\n",
       "      <td>2019-07-25</td>\n",
       "      <td>000000000000000014044000000000000000000000000000</td>\n",
       "      <td>AAA09044550</td>\n",
       "      <td>2</td>\n",
       "      <td>504.0</td>\n",
       "    </tr>\n",
       "  </tbody>\n",
       "</table>\n",
       "</div>"
      ],
      "text/plain": [
       "       credit_type  loan_amount  amount_overdue  open_date closed_date  \\\n",
       "0  consumer credit     272745.0             0.0 2018-09-22  2020-02-22   \n",
       "1  consumer credit       4500.0             0.0 2018-03-08  2019-07-25   \n",
       "\n",
       "                                 payment_hist_string          uid  \\\n",
       "0  0000000000000000000000100000000000000000000000...  AAA09044550   \n",
       "1   000000000000000014044000000000000000000000000000  AAA09044550   \n",
       "\n",
       "   missed_due_dates  loan_duration  \n",
       "0                 1          518.0  \n",
       "1                 2          504.0  "
      ]
     },
     "execution_count": 5,
     "metadata": {},
     "output_type": "execute_result"
    }
   ],
   "source": [
    "# Calculating Loan Duration\n",
    "\n",
    "account[\"loan_duration\"] = (account[\"closed_date\"]-account[\"open_date\"]).dt.days\n",
    "account.head(2)"
   ]
  },
  {
   "cell_type": "code",
   "execution_count": 6,
   "id": "c57bd08a",
   "metadata": {},
   "outputs": [
    {
     "data": {
      "text/html": [
       "<div>\n",
       "<style scoped>\n",
       "    .dataframe tbody tr th:only-of-type {\n",
       "        vertical-align: middle;\n",
       "    }\n",
       "\n",
       "    .dataframe tbody tr th {\n",
       "        vertical-align: top;\n",
       "    }\n",
       "\n",
       "    .dataframe thead th {\n",
       "        text-align: right;\n",
       "    }\n",
       "</style>\n",
       "<table border=\"1\" class=\"dataframe\">\n",
       "  <thead>\n",
       "    <tr style=\"text-align: right;\">\n",
       "      <th></th>\n",
       "      <th>enquiry_type</th>\n",
       "      <th>enquiry_amt</th>\n",
       "      <th>enquiry_date</th>\n",
       "      <th>uid</th>\n",
       "    </tr>\n",
       "  </thead>\n",
       "  <tbody>\n",
       "    <tr>\n",
       "      <th>0</th>\n",
       "      <td>interbank credit</td>\n",
       "      <td>168839</td>\n",
       "      <td>2020-11-08</td>\n",
       "      <td>AAA08065248</td>\n",
       "    </tr>\n",
       "    <tr>\n",
       "      <th>1</th>\n",
       "      <td>mobile operator loan</td>\n",
       "      <td>268392</td>\n",
       "      <td>2020-09-20</td>\n",
       "      <td>AAA08065248</td>\n",
       "    </tr>\n",
       "  </tbody>\n",
       "</table>\n",
       "</div>"
      ],
      "text/plain": [
       "           enquiry_type  enquiry_amt enquiry_date          uid\n",
       "0      interbank credit       168839   2020-11-08  AAA08065248\n",
       "1  mobile operator loan       268392   2020-09-20  AAA08065248"
      ]
     },
     "execution_count": 6,
     "metadata": {},
     "output_type": "execute_result"
    }
   ],
   "source": [
    "with open(\"./data/train/enquiry_data_train.json\", \"r\") as file:\n",
    "    data = json.load(file)\n",
    "\n",
    "flattened_data = [item for sublist in data for item in sublist]\n",
    "enquiry = json_normalize(flattened_data)\n",
    "\n",
    "enquiry[\"enquiry_date\"] = pd.to_datetime(enquiry[\"enquiry_date\"])\n",
    "enquiry.enquiry_type = enquiry.enquiry_type.str.strip()\n",
    "enquiry.enquiry_type = enquiry.enquiry_type.str.lower()\n",
    "enquiry.head(2)"
   ]
  },
  {
   "cell_type": "code",
   "execution_count": 7,
   "id": "29962352",
   "metadata": {},
   "outputs": [
    {
     "data": {
      "text/html": [
       "<div>\n",
       "<style scoped>\n",
       "    .dataframe tbody tr th:only-of-type {\n",
       "        vertical-align: middle;\n",
       "    }\n",
       "\n",
       "    .dataframe tbody tr th {\n",
       "        vertical-align: top;\n",
       "    }\n",
       "\n",
       "    .dataframe thead th {\n",
       "        text-align: right;\n",
       "    }\n",
       "</style>\n",
       "<table border=\"1\" class=\"dataframe\">\n",
       "  <thead>\n",
       "    <tr style=\"text-align: right;\">\n",
       "      <th></th>\n",
       "      <th>uid</th>\n",
       "      <th>enquiry_amt</th>\n",
       "      <th>loan_amount</th>\n",
       "      <th>amount_overdue</th>\n",
       "      <th>missed_due_dates</th>\n",
       "      <th>loan_duration</th>\n",
       "      <th>TARGET</th>\n",
       "    </tr>\n",
       "  </thead>\n",
       "  <tbody>\n",
       "    <tr>\n",
       "      <th>0</th>\n",
       "      <td>AAA08065248</td>\n",
       "      <td>187696.181818</td>\n",
       "      <td>NaN</td>\n",
       "      <td>NaN</td>\n",
       "      <td>NaN</td>\n",
       "      <td>NaN</td>\n",
       "      <td>0</td>\n",
       "    </tr>\n",
       "    <tr>\n",
       "      <th>1</th>\n",
       "      <td>AAA09044550</td>\n",
       "      <td>102592.592593</td>\n",
       "      <td>138622.5</td>\n",
       "      <td>0.0</td>\n",
       "      <td>1.5</td>\n",
       "      <td>511.0</td>\n",
       "      <td>0</td>\n",
       "    </tr>\n",
       "  </tbody>\n",
       "</table>\n",
       "</div>"
      ],
      "text/plain": [
       "           uid    enquiry_amt  loan_amount  amount_overdue  missed_due_dates  \\\n",
       "0  AAA08065248  187696.181818          NaN             NaN               NaN   \n",
       "1  AAA09044550  102592.592593     138622.5             0.0               1.5   \n",
       "\n",
       "   loan_duration  TARGET  \n",
       "0            NaN       0  \n",
       "1          511.0       0  "
      ]
     },
     "execution_count": 7,
     "metadata": {},
     "output_type": "execute_result"
    }
   ],
   "source": [
    "# Appending account data to enquiry data, left join is used as no. of unique uid for enquiry data and flag is same\n",
    "\n",
    "data_sum = pd.merge(enquiry, account,left_on=[\"uid\",\"enquiry_type\"],right_on=[\"uid\",\"credit_type\"],how=\"left\")\n",
    "data_sum = data_sum[['uid','enquiry_amt','loan_amount','amount_overdue','missed_due_dates','loan_duration']]\n",
    "data_sum = data_sum.groupby('uid').mean().reset_index()\n",
    "data_sum = pd.merge(data_sum,flag[[\"uid\",\"TARGET\"]],on=\"uid\")\n",
    "data_sum.head(2)"
   ]
  },
  {
   "cell_type": "code",
   "execution_count": 8,
   "id": "c780c789",
   "metadata": {},
   "outputs": [
    {
     "data": {
      "text/plain": [
       "uid                      0\n",
       "enquiry_amt              0\n",
       "loan_amount         171692\n",
       "amount_overdue      171691\n",
       "missed_due_dates    171691\n",
       "loan_duration       195368\n",
       "TARGET                   0\n",
       "dtype: int64"
      ]
     },
     "execution_count": 8,
     "metadata": {},
     "output_type": "execute_result"
    }
   ],
   "source": [
    "# Find Null count\n",
    "\n",
    "data_sum.isna().sum()"
   ]
  },
  {
   "cell_type": "code",
   "execution_count": 9,
   "id": "1c06134b",
   "metadata": {},
   "outputs": [
    {
     "data": {
      "text/html": [
       "<div>\n",
       "<style scoped>\n",
       "    .dataframe tbody tr th:only-of-type {\n",
       "        vertical-align: middle;\n",
       "    }\n",
       "\n",
       "    .dataframe tbody tr th {\n",
       "        vertical-align: top;\n",
       "    }\n",
       "\n",
       "    .dataframe thead th {\n",
       "        text-align: right;\n",
       "    }\n",
       "</style>\n",
       "<table border=\"1\" class=\"dataframe\">\n",
       "  <thead>\n",
       "    <tr style=\"text-align: right;\">\n",
       "      <th></th>\n",
       "      <th>uid</th>\n",
       "      <th>enquiry_amt</th>\n",
       "      <th>loan_amount</th>\n",
       "      <th>amount_overdue</th>\n",
       "      <th>missed_due_dates</th>\n",
       "      <th>loan_duration</th>\n",
       "      <th>TARGET</th>\n",
       "    </tr>\n",
       "  </thead>\n",
       "  <tbody>\n",
       "    <tr>\n",
       "      <th>0</th>\n",
       "      <td>AAA08065248</td>\n",
       "      <td>187696.181818</td>\n",
       "      <td>0.000</td>\n",
       "      <td>0.0</td>\n",
       "      <td>0.000000</td>\n",
       "      <td>0.000000</td>\n",
       "      <td>0</td>\n",
       "    </tr>\n",
       "    <tr>\n",
       "      <th>1</th>\n",
       "      <td>AAA09044550</td>\n",
       "      <td>102592.592593</td>\n",
       "      <td>138622.500</td>\n",
       "      <td>0.0</td>\n",
       "      <td>1.500000</td>\n",
       "      <td>511.000000</td>\n",
       "      <td>0</td>\n",
       "    </tr>\n",
       "    <tr>\n",
       "      <th>2</th>\n",
       "      <td>AAA10545297</td>\n",
       "      <td>94071.428571</td>\n",
       "      <td>80996.445</td>\n",
       "      <td>0.0</td>\n",
       "      <td>0.000000</td>\n",
       "      <td>0.000000</td>\n",
       "      <td>0</td>\n",
       "    </tr>\n",
       "    <tr>\n",
       "      <th>3</th>\n",
       "      <td>AAA14112888</td>\n",
       "      <td>97666.666667</td>\n",
       "      <td>43771.500</td>\n",
       "      <td>0.0</td>\n",
       "      <td>0.000000</td>\n",
       "      <td>92.000000</td>\n",
       "      <td>0</td>\n",
       "    </tr>\n",
       "    <tr>\n",
       "      <th>4</th>\n",
       "      <td>AAA20326915</td>\n",
       "      <td>66000.000000</td>\n",
       "      <td>0.000</td>\n",
       "      <td>0.0</td>\n",
       "      <td>0.000000</td>\n",
       "      <td>0.000000</td>\n",
       "      <td>0</td>\n",
       "    </tr>\n",
       "    <tr>\n",
       "      <th>...</th>\n",
       "      <td>...</td>\n",
       "      <td>...</td>\n",
       "      <td>...</td>\n",
       "      <td>...</td>\n",
       "      <td>...</td>\n",
       "      <td>...</td>\n",
       "      <td>...</td>\n",
       "    </tr>\n",
       "    <tr>\n",
       "      <th>261378</th>\n",
       "      <td>ZZZ74526004</td>\n",
       "      <td>111400.000000</td>\n",
       "      <td>37864.500</td>\n",
       "      <td>0.0</td>\n",
       "      <td>0.666667</td>\n",
       "      <td>289.333333</td>\n",
       "      <td>0</td>\n",
       "    </tr>\n",
       "    <tr>\n",
       "      <th>261379</th>\n",
       "      <td>ZZZ78449185</td>\n",
       "      <td>359326.833333</td>\n",
       "      <td>0.000</td>\n",
       "      <td>0.0</td>\n",
       "      <td>0.000000</td>\n",
       "      <td>0.000000</td>\n",
       "      <td>0</td>\n",
       "    </tr>\n",
       "    <tr>\n",
       "      <th>261380</th>\n",
       "      <td>ZZZ79008454</td>\n",
       "      <td>28000.000000</td>\n",
       "      <td>0.000</td>\n",
       "      <td>0.0</td>\n",
       "      <td>0.000000</td>\n",
       "      <td>0.000000</td>\n",
       "      <td>0</td>\n",
       "    </tr>\n",
       "    <tr>\n",
       "      <th>261381</th>\n",
       "      <td>ZZZ81253108</td>\n",
       "      <td>103551.724138</td>\n",
       "      <td>2529720.000</td>\n",
       "      <td>0.0</td>\n",
       "      <td>0.000000</td>\n",
       "      <td>547.000000</td>\n",
       "      <td>0</td>\n",
       "    </tr>\n",
       "    <tr>\n",
       "      <th>261382</th>\n",
       "      <td>ZZZ93377613</td>\n",
       "      <td>243784.416667</td>\n",
       "      <td>59217.750</td>\n",
       "      <td>0.0</td>\n",
       "      <td>0.000000</td>\n",
       "      <td>467.714286</td>\n",
       "      <td>0</td>\n",
       "    </tr>\n",
       "  </tbody>\n",
       "</table>\n",
       "<p>261383 rows × 7 columns</p>\n",
       "</div>"
      ],
      "text/plain": [
       "                uid    enquiry_amt  loan_amount  amount_overdue  \\\n",
       "0       AAA08065248  187696.181818        0.000             0.0   \n",
       "1       AAA09044550  102592.592593   138622.500             0.0   \n",
       "2       AAA10545297   94071.428571    80996.445             0.0   \n",
       "3       AAA14112888   97666.666667    43771.500             0.0   \n",
       "4       AAA20326915   66000.000000        0.000             0.0   \n",
       "...             ...            ...          ...             ...   \n",
       "261378  ZZZ74526004  111400.000000    37864.500             0.0   \n",
       "261379  ZZZ78449185  359326.833333        0.000             0.0   \n",
       "261380  ZZZ79008454   28000.000000        0.000             0.0   \n",
       "261381  ZZZ81253108  103551.724138  2529720.000             0.0   \n",
       "261382  ZZZ93377613  243784.416667    59217.750             0.0   \n",
       "\n",
       "        missed_due_dates  loan_duration  TARGET  \n",
       "0               0.000000       0.000000       0  \n",
       "1               1.500000     511.000000       0  \n",
       "2               0.000000       0.000000       0  \n",
       "3               0.000000      92.000000       0  \n",
       "4               0.000000       0.000000       0  \n",
       "...                  ...            ...     ...  \n",
       "261378          0.666667     289.333333       0  \n",
       "261379          0.000000       0.000000       0  \n",
       "261380          0.000000       0.000000       0  \n",
       "261381          0.000000     547.000000       0  \n",
       "261382          0.000000     467.714286       0  \n",
       "\n",
       "[261383 rows x 7 columns]"
      ]
     },
     "execution_count": 9,
     "metadata": {},
     "output_type": "execute_result"
    }
   ],
   "source": [
    "# Replace Null by 0 \n",
    "data_sum = data_sum.fillna(0)\n",
    "data_sum"
   ]
  },
  {
   "cell_type": "code",
   "execution_count": 10,
   "id": "7e7ecbfe",
   "metadata": {},
   "outputs": [
    {
     "data": {
      "text/html": [
       "<div>\n",
       "<style scoped>\n",
       "    .dataframe tbody tr th:only-of-type {\n",
       "        vertical-align: middle;\n",
       "    }\n",
       "\n",
       "    .dataframe tbody tr th {\n",
       "        vertical-align: top;\n",
       "    }\n",
       "\n",
       "    .dataframe thead th {\n",
       "        text-align: right;\n",
       "    }\n",
       "</style>\n",
       "<table border=\"1\" class=\"dataframe\">\n",
       "  <thead>\n",
       "    <tr style=\"text-align: right;\">\n",
       "      <th></th>\n",
       "      <th>enquiry_amt</th>\n",
       "      <th>loan_amount</th>\n",
       "      <th>amount_overdue</th>\n",
       "      <th>missed_due_dates</th>\n",
       "      <th>loan_duration</th>\n",
       "      <th>TARGET</th>\n",
       "    </tr>\n",
       "  </thead>\n",
       "  <tbody>\n",
       "    <tr>\n",
       "      <th>enquiry_amt</th>\n",
       "      <td>1.000000</td>\n",
       "      <td>0.006773</td>\n",
       "      <td>-0.001516</td>\n",
       "      <td>0.001754</td>\n",
       "      <td>-0.007123</td>\n",
       "      <td>-0.020950</td>\n",
       "    </tr>\n",
       "    <tr>\n",
       "      <th>loan_amount</th>\n",
       "      <td>0.006773</td>\n",
       "      <td>1.000000</td>\n",
       "      <td>0.005308</td>\n",
       "      <td>0.074603</td>\n",
       "      <td>0.200549</td>\n",
       "      <td>-0.014842</td>\n",
       "    </tr>\n",
       "    <tr>\n",
       "      <th>amount_overdue</th>\n",
       "      <td>-0.001516</td>\n",
       "      <td>0.005308</td>\n",
       "      <td>1.000000</td>\n",
       "      <td>0.059077</td>\n",
       "      <td>0.006616</td>\n",
       "      <td>0.007467</td>\n",
       "    </tr>\n",
       "    <tr>\n",
       "      <th>missed_due_dates</th>\n",
       "      <td>0.001754</td>\n",
       "      <td>0.074603</td>\n",
       "      <td>0.059077</td>\n",
       "      <td>1.000000</td>\n",
       "      <td>0.165994</td>\n",
       "      <td>-0.002612</td>\n",
       "    </tr>\n",
       "    <tr>\n",
       "      <th>loan_duration</th>\n",
       "      <td>-0.007123</td>\n",
       "      <td>0.200549</td>\n",
       "      <td>0.006616</td>\n",
       "      <td>0.165994</td>\n",
       "      <td>1.000000</td>\n",
       "      <td>-0.022884</td>\n",
       "    </tr>\n",
       "    <tr>\n",
       "      <th>TARGET</th>\n",
       "      <td>-0.020950</td>\n",
       "      <td>-0.014842</td>\n",
       "      <td>0.007467</td>\n",
       "      <td>-0.002612</td>\n",
       "      <td>-0.022884</td>\n",
       "      <td>1.000000</td>\n",
       "    </tr>\n",
       "  </tbody>\n",
       "</table>\n",
       "</div>"
      ],
      "text/plain": [
       "                  enquiry_amt  loan_amount  amount_overdue  missed_due_dates  \\\n",
       "enquiry_amt          1.000000     0.006773       -0.001516          0.001754   \n",
       "loan_amount          0.006773     1.000000        0.005308          0.074603   \n",
       "amount_overdue      -0.001516     0.005308        1.000000          0.059077   \n",
       "missed_due_dates     0.001754     0.074603        0.059077          1.000000   \n",
       "loan_duration       -0.007123     0.200549        0.006616          0.165994   \n",
       "TARGET              -0.020950    -0.014842        0.007467         -0.002612   \n",
       "\n",
       "                  loan_duration    TARGET  \n",
       "enquiry_amt           -0.007123 -0.020950  \n",
       "loan_amount            0.200549 -0.014842  \n",
       "amount_overdue         0.006616  0.007467  \n",
       "missed_due_dates       0.165994 -0.002612  \n",
       "loan_duration          1.000000 -0.022884  \n",
       "TARGET                -0.022884  1.000000  "
      ]
     },
     "execution_count": 10,
     "metadata": {},
     "output_type": "execute_result"
    }
   ],
   "source": [
    "# Check if there is collinearity between columns\n",
    "\n",
    "data_sum.corr()"
   ]
  },
  {
   "cell_type": "markdown",
   "id": "960f77c8",
   "metadata": {},
   "source": [
    "# EDA"
   ]
  },
  {
   "cell_type": "code",
   "execution_count": 11,
   "id": "89a6f29a",
   "metadata": {},
   "outputs": [
    {
     "data": {
      "image/png": "[encoded data removed]",
      "text/plain": [
       "<Figure size 1080x216 with 2 Axes>"
      ]
     },
     "metadata": {
      "needs_background": "light"
     },
     "output_type": "display_data"
    }
   ],
   "source": [
    "plt.figure(figsize=(15,3))\n",
    "\n",
    "plt.subplot(1, 2, 1)\n",
    "plt.hist(data_sum[data_sum[\"TARGET\"] == 1][\"enquiry_amt\"], bins=50, color='blue')\n",
    "plt.title(\"Histogram for TARGET = 1\")\n",
    "plt.xlabel(\"enquiry_amt\")\n",
    "plt.ylabel(\"Frequency\")\n",
    "\n",
    "plt.subplot(1, 2, 2)\n",
    "plt.hist(data_sum[data_sum[\"TARGET\"] == 0][\"enquiry_amt\"], bins=50, color='orange')\n",
    "plt.title(\"Histogram for TARGET = 0\")\n",
    "plt.xlabel(\"enquiry_amt\")\n",
    "plt.ylabel(\"Frequency\")\n",
    "\n",
    "plt.show()"
   ]
  },
  {
   "cell_type": "code",
   "execution_count": 12,
   "id": "f0637673",
   "metadata": {},
   "outputs": [
    {
     "data": {
      "image/png": "[encoded data removed]",
      "text/plain": [
       "<Figure size 720x432 with 1 Axes>"
      ]
     },
     "metadata": {
      "needs_background": "light"
     },
     "output_type": "display_data"
    }
   ],
   "source": [
    "plt.figure(figsize=(10, 6))\n",
    "\n",
    "plt.boxplot(data_sum[data_sum[\"TARGET\"] == 1][\"enquiry_amt\"], positions=[1], widths=0.6, patch_artist=True, boxprops=dict(facecolor='blue'))\n",
    "plt.boxplot(data_sum[data_sum[\"TARGET\"] == 0][\"enquiry_amt\"], positions=[2], widths=0.6, patch_artist=True, boxprops=dict(facecolor='orange'))\n",
    "\n",
    "plt.title(\"Box Plots for Different TARGET Values\")\n",
    "plt.xlabel(\"TARGET\")\n",
    "plt.ylabel(\"enquiry_amt\")\n",
    "plt.xticks([1, 2], [\"TARGET = 1\", \"TARGET = 0\"])\n",
    "plt.show()"
   ]
  },
  {
   "cell_type": "code",
   "execution_count": 13,
   "id": "c0635ccd",
   "metadata": {},
   "outputs": [
    {
     "data": {
      "text/html": [
       "<div>\n",
       "<style scoped>\n",
       "    .dataframe tbody tr th:only-of-type {\n",
       "        vertical-align: middle;\n",
       "    }\n",
       "\n",
       "    .dataframe tbody tr th {\n",
       "        vertical-align: top;\n",
       "    }\n",
       "\n",
       "    .dataframe thead th {\n",
       "        text-align: right;\n",
       "    }\n",
       "</style>\n",
       "<table border=\"1\" class=\"dataframe\">\n",
       "  <thead>\n",
       "    <tr style=\"text-align: right;\">\n",
       "      <th></th>\n",
       "      <th>uid</th>\n",
       "      <th>enquiry_amt</th>\n",
       "      <th>loan_amount</th>\n",
       "      <th>amount_overdue</th>\n",
       "      <th>missed_due_dates</th>\n",
       "      <th>loan_duration</th>\n",
       "      <th>TARGET</th>\n",
       "    </tr>\n",
       "  </thead>\n",
       "  <tbody>\n",
       "    <tr>\n",
       "      <th>0</th>\n",
       "      <td>AAA08065248</td>\n",
       "      <td>187696.181818</td>\n",
       "      <td>0.0</td>\n",
       "      <td>0.0</td>\n",
       "      <td>0.0</td>\n",
       "      <td>0.0</td>\n",
       "      <td>0</td>\n",
       "    </tr>\n",
       "    <tr>\n",
       "      <th>1</th>\n",
       "      <td>AAA09044550</td>\n",
       "      <td>102592.592593</td>\n",
       "      <td>138622.5</td>\n",
       "      <td>0.0</td>\n",
       "      <td>1.5</td>\n",
       "      <td>511.0</td>\n",
       "      <td>0</td>\n",
       "    </tr>\n",
       "  </tbody>\n",
       "</table>\n",
       "</div>"
      ],
      "text/plain": [
       "           uid    enquiry_amt  loan_amount  amount_overdue  missed_due_dates  \\\n",
       "0  AAA08065248  187696.181818          0.0             0.0               0.0   \n",
       "1  AAA09044550  102592.592593     138622.5             0.0               1.5   \n",
       "\n",
       "   loan_duration  TARGET  \n",
       "0            0.0       0  \n",
       "1          511.0       0  "
      ]
     },
     "execution_count": 13,
     "metadata": {},
     "output_type": "execute_result"
    }
   ],
   "source": [
    "data_sum.head(2)"
   ]
  },
  {
   "cell_type": "code",
   "execution_count": 14,
   "id": "c9fad20a",
   "metadata": {},
   "outputs": [
    {
     "data": {
      "image/png": "[encoded data removed]",
      "text/plain": [
       "<Figure size 1080x216 with 2 Axes>"
      ]
     },
     "metadata": {
      "needs_background": "light"
     },
     "output_type": "display_data"
    }
   ],
   "source": [
    "plt.figure(figsize=(15,3))\n",
    "\n",
    "plt.subplot(1, 2, 1)\n",
    "plt.hist(np.sqrt(data_sum[(data_sum[\"TARGET\"] == 1) & (data_sum[\"loan_amount\"] > 0)][\"loan_amount\"]), bins=500, color='blue')\n",
    "plt.title(\"Histogram for TARGET = 1\")\n",
    "plt.xlabel(\"enquiry_amt\")\n",
    "plt.ylabel(\"Frequency\")\n",
    "\n",
    "plt.subplot(1, 2, 2)\n",
    "plt.hist(np.sqrt(data_sum[(data_sum[\"TARGET\"] == 0) & (data_sum[\"loan_amount\"] > 0)][\"loan_amount\"]), bins=500, color='orange')\n",
    "plt.title(\"Histogram for TARGET = 0\")\n",
    "plt.xlabel(\"enquiry_amt\")\n",
    "plt.ylabel(\"Frequency\")\n",
    "\n",
    "plt.show()"
   ]
  },
  {
   "cell_type": "code",
   "execution_count": 15,
   "id": "07e7b874",
   "metadata": {},
   "outputs": [
    {
     "data": {
      "text/plain": [
       "(173359, 7)"
      ]
     },
     "execution_count": 15,
     "metadata": {},
     "output_type": "execute_result"
    }
   ],
   "source": [
    "data_sum[data_sum[\"loan_amount\"] == 0].shape"
   ]
  },
  {
   "cell_type": "code",
   "execution_count": 16,
   "id": "f03fb692",
   "metadata": {},
   "outputs": [
    {
     "data": {
      "text/plain": [
       "(261383, 7)"
      ]
     },
     "execution_count": 16,
     "metadata": {},
     "output_type": "execute_result"
    }
   ],
   "source": [
    "data_sum.shape"
   ]
  },
  {
   "cell_type": "code",
   "execution_count": 17,
   "id": "abb37730",
   "metadata": {},
   "outputs": [],
   "source": [
    "# There are to many raws where data_sum[\"loan_amount\"]==0"
   ]
  },
  {
   "cell_type": "code",
   "execution_count": 18,
   "id": "25c40bb2",
   "metadata": {},
   "outputs": [
    {
     "data": {
      "image/png": "[encoded data removed]",
      "text/plain": [
       "<Figure size 432x288 with 1 Axes>"
      ]
     },
     "metadata": {
      "needs_background": "light"
     },
     "output_type": "display_data"
    }
   ],
   "source": [
    "transformed_values = np.sqrt(data_sum[(data_sum[\"loan_amount\"] > 0)][\"loan_amount\"])\n",
    "plt.hist(np.log(transformed_values), bins=30)\n",
    "plt.title(\"Transformed Loan Amount Distribution\")\n",
    "plt.xlabel(\"Log(Square Root(Loan Amount))\")\n",
    "plt.ylabel(\"Frequency\")\n",
    "plt.show()\n",
    "\n",
    "# There there were not such high rows with  loan_amount=0, the loan_amount distibution could have be transformed into normal distribution"
   ]
  },
  {
   "cell_type": "code",
   "execution_count": 19,
   "id": "d4292249",
   "metadata": {},
   "outputs": [
    {
     "name": "stdout",
     "output_type": "stream",
     "text": [
      "(260567, 7)\n"
     ]
    },
    {
     "data": {
      "image/png": "[encoded data removed]",
      "text/plain": [
       "<Figure size 432x288 with 1 Axes>"
      ]
     },
     "metadata": {
      "needs_background": "light"
     },
     "output_type": "display_data"
    }
   ],
   "source": [
    "# Similar comments can be made for amount_overdue as well\n",
    "print(data_sum[data_sum[\"amount_overdue\"]==0].shape)\n",
    "p = data_sum[(data_sum[\"amount_overdue\"] > 0)][\"amount_overdue\"]\n",
    "plt.hist(np.log(p),bins=50)\n",
    "plt.title(\"Transformed Loan Amount Overdue\")\n",
    "plt.xlabel(\"Log(Square Root(Loan Amount Overdue))\")\n",
    "plt.ylabel(\"Frequency\")\n",
    "plt.show()"
   ]
  },
  {
   "cell_type": "code",
   "execution_count": 20,
   "id": "0dcdfbb9",
   "metadata": {},
   "outputs": [
    {
     "data": {
      "image/png": "[encoded data removed]",
      "text/plain": [
       "<Figure size 432x288 with 1 Axes>"
      ]
     },
     "metadata": {
      "needs_background": "light"
     },
     "output_type": "display_data"
    }
   ],
   "source": [
    "p = data_sum[(data_sum[\"missed_due_dates\"] > 0)][\"missed_due_dates\"]\n",
    "plt.hist(np.log(p),bins=50)\n",
    "plt.title(\"Transformed No. of Missed Due Dates\")\n",
    "plt.xlabel(\"Log(No. of Missed Due Dates)\")\n",
    "plt.ylabel(\"Frequency\")\n",
    "plt.show()"
   ]
  },
  {
   "cell_type": "code",
   "execution_count": 21,
   "id": "fe4e67e6",
   "metadata": {},
   "outputs": [
    {
     "data": {
      "text/plain": [
       "(195433, 7)"
      ]
     },
     "execution_count": 21,
     "metadata": {},
     "output_type": "execute_result"
    }
   ],
   "source": [
    "data_sum[(data_sum[\"loan_duration\"] == 0)].shape"
   ]
  },
  {
   "cell_type": "markdown",
   "id": "f6c89478",
   "metadata": {},
   "source": [
    "# Model Training"
   ]
  },
  {
   "cell_type": "code",
   "execution_count": 32,
   "id": "c30d47aa",
   "metadata": {},
   "outputs": [],
   "source": [
    "# To find of which algorithm is best suited for the data\n",
    "\n",
    "models = {\n",
    "    \"logistic_regression\": {\n",
    "        \"model\": LogisticRegression(solver=\"liblinear\", multi_class=\"auto\"),\n",
    "        \"params\": {\n",
    "            \"logisticregression__C\": [10, 25, 1000]\n",
    "        }\n",
    "    },\n",
    "    \"random_forest\": {\n",
    "        \"model\": RandomForestClassifier(),\n",
    "        \"params\": {\n",
    "            \"randomforestclassifier__n_estimators\": [10, 25, 100]\n",
    "        }\n",
    "    },\n",
    "    \"xgboost\": {\n",
    "        \"model\": xgb.XGBClassifier(),\n",
    "        \"params\": {\n",
    "            \"xgbclassifier__learning_rate\": [0.01, 0.1, 0.2],\n",
    "            \"xgbclassifier__n_estimators\": [50, 100, 200]\n",
    "        }\n",
    "    }\n",
    "}"
   ]
  },
  {
   "cell_type": "code",
   "execution_count": 23,
   "id": "c3f396d8",
   "metadata": {},
   "outputs": [],
   "source": [
    "X = data_sum.drop(columns=[\"TARGET\",\"uid\"])\n",
    "y = data_sum[\"TARGET\"]\n",
    "\n",
    "\n",
    "X_train, X_test, y_train, y_test = train_test_split(X, y, test_size=0.2, random_state=42)\n",
    "\n",
    "# Standardize the features\n",
    "scaler = StandardScaler()\n",
    "X_train_scaled = scaler.fit_transform(X_train)\n",
    "X_test_scaled = scaler.transform(X_test)"
   ]
  },
  {
   "cell_type": "code",
   "execution_count": 24,
   "id": "93b30105",
   "metadata": {},
   "outputs": [
    {
     "data": {
      "text/html": [
       "<div>\n",
       "<style scoped>\n",
       "    .dataframe tbody tr th:only-of-type {\n",
       "        vertical-align: middle;\n",
       "    }\n",
       "\n",
       "    .dataframe tbody tr th {\n",
       "        vertical-align: top;\n",
       "    }\n",
       "\n",
       "    .dataframe thead th {\n",
       "        text-align: right;\n",
       "    }\n",
       "</style>\n",
       "<table border=\"1\" class=\"dataframe\">\n",
       "  <thead>\n",
       "    <tr style=\"text-align: right;\">\n",
       "      <th></th>\n",
       "      <th>model</th>\n",
       "      <th>best_score</th>\n",
       "      <th>best_params</th>\n",
       "    </tr>\n",
       "  </thead>\n",
       "  <tbody>\n",
       "    <tr>\n",
       "      <th>0</th>\n",
       "      <td>logistic_regression</td>\n",
       "      <td>0.529267</td>\n",
       "      <td>{'logisticregression__C': 25}</td>\n",
       "    </tr>\n",
       "    <tr>\n",
       "      <th>1</th>\n",
       "      <td>random_forest</td>\n",
       "      <td>0.514084</td>\n",
       "      <td>{'randomforestclassifier__n_estimators': 100}</td>\n",
       "    </tr>\n",
       "    <tr>\n",
       "      <th>2</th>\n",
       "      <td>xgboost</td>\n",
       "      <td>0.539334</td>\n",
       "      <td>{'xgbclassifier__learning_rate': 0.01, 'xgbcla...</td>\n",
       "    </tr>\n",
       "  </tbody>\n",
       "</table>\n",
       "</div>"
      ],
      "text/plain": [
       "                 model  best_score  \\\n",
       "0  logistic_regression    0.529267   \n",
       "1        random_forest    0.514084   \n",
       "2              xgboost    0.539334   \n",
       "\n",
       "                                         best_params  \n",
       "0                      {'logisticregression__C': 25}  \n",
       "1      {'randomforestclassifier__n_estimators': 100}  \n",
       "2  {'xgbclassifier__learning_rate': 0.01, 'xgbcla...  "
      ]
     },
     "execution_count": 24,
     "metadata": {},
     "output_type": "execute_result"
    }
   ],
   "source": [
    "scores = []\n",
    "best_estimators = {}\n",
    "\n",
    "for algo, mp in models.items():\n",
    "    pipe = make_pipeline(StandardScaler(), mp[\"model\"])\n",
    "    clf = GridSearchCV(pipe, mp[\"params\"], cv=5, scoring=\"roc_auc\")\n",
    "    clf.fit(X_train_scaled, y_train)\n",
    "    scores.append({\n",
    "        \"model\": algo,\n",
    "        \"best_score\": clf.best_score_,\n",
    "        \"best_params\": clf.best_params_\n",
    "    })\n",
    "    best_estimators[algo] = clf.best_estimator_\n",
    "\n",
    "performance = pd.DataFrame(scores, columns=[\"model\", \"best_score\", \"best_params\"])\n",
    "performance"
   ]
  },
  {
   "cell_type": "markdown",
   "id": "cc638e45",
   "metadata": {},
   "source": [
    "# DATA BALANCING"
   ]
  },
  {
   "cell_type": "code",
   "execution_count": 25,
   "id": "036c341e",
   "metadata": {},
   "outputs": [
    {
     "data": {
      "text/plain": [
       "0    240326\n",
       "1     21057\n",
       "Name: TARGET, dtype: int64"
      ]
     },
     "execution_count": 25,
     "metadata": {},
     "output_type": "execute_result"
    }
   ],
   "source": [
    "data_sum[\"TARGET\"].value_counts()\n",
    "\n",
    "# The dataset is unbalanced, so for better predication we somehow need to balance the data\n",
    "# Few ways to balance the data are \n",
    "#   a - Under Sampling\n",
    "#   b - Over Sampling\n",
    "#   c - Weighted Ratio\n",
    "#   d - Smoth"
   ]
  },
  {
   "cell_type": "markdown",
   "id": "596b44be",
   "metadata": {},
   "source": [
    "### UNDERSAMPLING"
   ]
  },
  {
   "cell_type": "code",
   "execution_count": 26,
   "id": "c27662f8",
   "metadata": {},
   "outputs": [],
   "source": [
    "data_0 = data_sum[data_sum[\"TARGET\"]==0].sample(21000)\n",
    "data_1 = data_sum[data_sum[\"TARGET\"]==1]\n",
    "con_data = pd.concat([data_0,data_1],axis=0)"
   ]
  },
  {
   "cell_type": "code",
   "execution_count": 27,
   "id": "a970fa01",
   "metadata": {},
   "outputs": [],
   "source": [
    "X = con_data.drop(columns=[\"TARGET\",\"uid\"])\n",
    "y = con_data[\"TARGET\"]\n",
    "\n",
    "X_train, X_test, y_train, y_test = train_test_split(X, y, test_size=0.2, random_state=42)\n",
    "\n",
    "# Standardize the features\n",
    "scaler = StandardScaler()\n",
    "X_train_scaled = scaler.fit_transform(X_train)\n",
    "X_test_scaled = scaler.transform(X_test)"
   ]
  },
  {
   "cell_type": "code",
   "execution_count": 28,
   "id": "6a9dc701",
   "metadata": {},
   "outputs": [
    {
     "data": {
      "text/html": [
       "<div>\n",
       "<style scoped>\n",
       "    .dataframe tbody tr th:only-of-type {\n",
       "        vertical-align: middle;\n",
       "    }\n",
       "\n",
       "    .dataframe tbody tr th {\n",
       "        vertical-align: top;\n",
       "    }\n",
       "\n",
       "    .dataframe thead th {\n",
       "        text-align: right;\n",
       "    }\n",
       "</style>\n",
       "<table border=\"1\" class=\"dataframe\">\n",
       "  <thead>\n",
       "    <tr style=\"text-align: right;\">\n",
       "      <th></th>\n",
       "      <th>model</th>\n",
       "      <th>best_score</th>\n",
       "      <th>best_params</th>\n",
       "    </tr>\n",
       "  </thead>\n",
       "  <tbody>\n",
       "    <tr>\n",
       "      <th>0</th>\n",
       "      <td>logistic_regression</td>\n",
       "      <td>0.535059</td>\n",
       "      <td>{'logisticregression__C': 1000}</td>\n",
       "    </tr>\n",
       "    <tr>\n",
       "      <th>1</th>\n",
       "      <td>random_forest</td>\n",
       "      <td>0.515102</td>\n",
       "      <td>{'randomforestclassifier__n_estimators': 100}</td>\n",
       "    </tr>\n",
       "    <tr>\n",
       "      <th>2</th>\n",
       "      <td>xgboost</td>\n",
       "      <td>0.540796</td>\n",
       "      <td>{'xgbclassifier__learning_rate': 0.01, 'xgbcla...</td>\n",
       "    </tr>\n",
       "  </tbody>\n",
       "</table>\n",
       "</div>"
      ],
      "text/plain": [
       "                 model  best_score  \\\n",
       "0  logistic_regression    0.535059   \n",
       "1        random_forest    0.515102   \n",
       "2              xgboost    0.540796   \n",
       "\n",
       "                                         best_params  \n",
       "0                    {'logisticregression__C': 1000}  \n",
       "1      {'randomforestclassifier__n_estimators': 100}  \n",
       "2  {'xgbclassifier__learning_rate': 0.01, 'xgbcla...  "
      ]
     },
     "execution_count": 28,
     "metadata": {},
     "output_type": "execute_result"
    }
   ],
   "source": [
    "scores = []\n",
    "best_estimators = {}\n",
    "\n",
    "for algo, mp in models.items():\n",
    "    pipe = make_pipeline(StandardScaler(), mp[\"model\"])\n",
    "    clf = GridSearchCV(pipe, mp[\"params\"], cv=5, scoring=\"roc_auc\")\n",
    "    clf.fit(X_train_scaled, y_train)\n",
    "    scores.append({\n",
    "        \"model\": algo,\n",
    "        \"best_score\": clf.best_score_,\n",
    "        \"best_params\": clf.best_params_\n",
    "    })\n",
    "    best_estimators[algo] = clf.best_estimator_\n",
    "\n",
    "performance_undersampling = pd.DataFrame(scores, columns=[\"model\", \"best_score\", \"best_params\"])\n",
    "performance_undersampling"
   ]
  },
  {
   "cell_type": "markdown",
   "id": "22f470db",
   "metadata": {},
   "source": [
    "### Over Sampling"
   ]
  },
  {
   "cell_type": "code",
   "execution_count": 29,
   "id": "fbd6a642",
   "metadata": {},
   "outputs": [],
   "source": [
    "data_0 = data_sum[data_sum[\"TARGET\"]==0]\n",
    "data_1 = data_sum[data_sum[\"TARGET\"]==1].sample(240000,replace=True)\n",
    "con_data = pd.concat([data_0,data_1],axis=0)"
   ]
  },
  {
   "cell_type": "code",
   "execution_count": 30,
   "id": "679e8fd2",
   "metadata": {},
   "outputs": [],
   "source": [
    "X = con_data.drop(columns=[\"TARGET\",\"uid\"])\n",
    "y = con_data[\"TARGET\"]\n",
    "\n",
    "X_train, X_test, y_train, y_test = train_test_split(X, y, test_size=0.2, random_state=42)\n",
    "\n",
    "# Standardize the features\n",
    "scaler = StandardScaler()\n",
    "X_train_scaled = scaler.fit_transform(X_train)\n",
    "X_test_scaled = scaler.transform(X_test)"
   ]
  },
  {
   "cell_type": "code",
   "execution_count": 31,
   "id": "dcd69b6d",
   "metadata": {},
   "outputs": [
    {
     "data": {
      "text/html": [
       "<div>\n",
       "<style scoped>\n",
       "    .dataframe tbody tr th:only-of-type {\n",
       "        vertical-align: middle;\n",
       "    }\n",
       "\n",
       "    .dataframe tbody tr th {\n",
       "        vertical-align: top;\n",
       "    }\n",
       "\n",
       "    .dataframe thead th {\n",
       "        text-align: right;\n",
       "    }\n",
       "</style>\n",
       "<table border=\"1\" class=\"dataframe\">\n",
       "  <thead>\n",
       "    <tr style=\"text-align: right;\">\n",
       "      <th></th>\n",
       "      <th>model</th>\n",
       "      <th>best_score</th>\n",
       "      <th>best_params</th>\n",
       "    </tr>\n",
       "  </thead>\n",
       "  <tbody>\n",
       "    <tr>\n",
       "      <th>0</th>\n",
       "      <td>logistic_regression</td>\n",
       "      <td>0.531740</td>\n",
       "      <td>{'logisticregression__C': 1000}</td>\n",
       "    </tr>\n",
       "    <tr>\n",
       "      <th>1</th>\n",
       "      <td>random_forest</td>\n",
       "      <td>0.856504</td>\n",
       "      <td>{'randomforestclassifier__n_estimators': 100}</td>\n",
       "    </tr>\n",
       "    <tr>\n",
       "      <th>2</th>\n",
       "      <td>xgboost</td>\n",
       "      <td>0.645700</td>\n",
       "      <td>{'xgbclassifier__learning_rate': 0.2, 'xgbclas...</td>\n",
       "    </tr>\n",
       "  </tbody>\n",
       "</table>\n",
       "</div>"
      ],
      "text/plain": [
       "                 model  best_score  \\\n",
       "0  logistic_regression    0.531740   \n",
       "1        random_forest    0.856504   \n",
       "2              xgboost    0.645700   \n",
       "\n",
       "                                         best_params  \n",
       "0                    {'logisticregression__C': 1000}  \n",
       "1      {'randomforestclassifier__n_estimators': 100}  \n",
       "2  {'xgbclassifier__learning_rate': 0.2, 'xgbclas...  "
      ]
     },
     "execution_count": 31,
     "metadata": {},
     "output_type": "execute_result"
    }
   ],
   "source": [
    "scores = []\n",
    "best_estimators = {}\n",
    "\n",
    "for algo, mp in models.items():\n",
    "    pipe = make_pipeline(StandardScaler(), mp[\"model\"])\n",
    "    clf = GridSearchCV(pipe, mp[\"params\"], cv=5, scoring=\"roc_auc\")\n",
    "    clf.fit(X_train_scaled, y_train)\n",
    "    scores.append({\n",
    "        \"model\": algo,\n",
    "        \"best_score\": clf.best_score_,\n",
    "        \"best_params\": clf.best_params_\n",
    "    })\n",
    "    best_estimators[algo] = clf.best_estimator_\n",
    "\n",
    "performance_oversampling = pd.DataFrame(scores, columns=[\"model\", \"best_score\", \"best_params\"])\n",
    "performance_oversampling"
   ]
  },
  {
   "cell_type": "code",
   "execution_count": 32,
   "id": "46c18754",
   "metadata": {},
   "outputs": [],
   "source": [
    "X = con_data.drop(columns=[\"TARGET\",\"uid\"])\n",
    "y = con_data[\"TARGET\"]\n",
    "\n",
    "X_train, X_test, y_train, y_test = train_test_split(X, y, test_size=0.2, random_state=22)\n",
    "\n",
    "# Standardize the features\n",
    "scaler = StandardScaler()\n",
    "X_train_scaled = scaler.fit_transform(X_train)\n",
    "X_test_scaled = scaler.transform(X_test)"
   ]
  },
  {
   "cell_type": "code",
   "execution_count": 33,
   "id": "aa004e1f",
   "metadata": {},
   "outputs": [
    {
     "data": {
      "text/html": [
       "<div>\n",
       "<style scoped>\n",
       "    .dataframe tbody tr th:only-of-type {\n",
       "        vertical-align: middle;\n",
       "    }\n",
       "\n",
       "    .dataframe tbody tr th {\n",
       "        vertical-align: top;\n",
       "    }\n",
       "\n",
       "    .dataframe thead th {\n",
       "        text-align: right;\n",
       "    }\n",
       "</style>\n",
       "<table border=\"1\" class=\"dataframe\">\n",
       "  <thead>\n",
       "    <tr style=\"text-align: right;\">\n",
       "      <th></th>\n",
       "      <th>model</th>\n",
       "      <th>best_score</th>\n",
       "      <th>best_params</th>\n",
       "    </tr>\n",
       "  </thead>\n",
       "  <tbody>\n",
       "    <tr>\n",
       "      <th>0</th>\n",
       "      <td>logistic_regression</td>\n",
       "      <td>0.532151</td>\n",
       "      <td>{'logisticregression__C': 1000}</td>\n",
       "    </tr>\n",
       "    <tr>\n",
       "      <th>1</th>\n",
       "      <td>random_forest</td>\n",
       "      <td>0.856654</td>\n",
       "      <td>{'randomforestclassifier__n_estimators': 100}</td>\n",
       "    </tr>\n",
       "    <tr>\n",
       "      <th>2</th>\n",
       "      <td>xgboost</td>\n",
       "      <td>0.648607</td>\n",
       "      <td>{'xgbclassifier__learning_rate': 0.2, 'xgbclas...</td>\n",
       "    </tr>\n",
       "  </tbody>\n",
       "</table>\n",
       "</div>"
      ],
      "text/plain": [
       "                 model  best_score  \\\n",
       "0  logistic_regression    0.532151   \n",
       "1        random_forest    0.856654   \n",
       "2              xgboost    0.648607   \n",
       "\n",
       "                                         best_params  \n",
       "0                    {'logisticregression__C': 1000}  \n",
       "1      {'randomforestclassifier__n_estimators': 100}  \n",
       "2  {'xgbclassifier__learning_rate': 0.2, 'xgbclas...  "
      ]
     },
     "execution_count": 33,
     "metadata": {},
     "output_type": "execute_result"
    }
   ],
   "source": [
    "scores = []\n",
    "best_estimators = {}\n",
    "\n",
    "for algo, mp in models.items():\n",
    "    pipe = make_pipeline(StandardScaler(), mp[\"model\"])\n",
    "    clf = GridSearchCV(pipe, mp[\"params\"], cv=5, scoring=\"roc_auc\")\n",
    "    clf.fit(X_train_scaled, y_train)\n",
    "    scores.append({\n",
    "        \"model\": algo,\n",
    "        \"best_score\": clf.best_score_,\n",
    "        \"best_params\": clf.best_params_\n",
    "    })\n",
    "    best_estimators[algo] = clf.best_estimator_\n",
    "\n",
    "performance_oversampling = pd.DataFrame(scores, columns=[\"model\", \"best_score\", \"best_params\"])\n",
    "performance_oversampling"
   ]
  },
  {
   "cell_type": "markdown",
   "id": "96e7e240",
   "metadata": {},
   "source": [
    "### Weighted Ratio"
   ]
  },
  {
   "cell_type": "code",
   "execution_count": 34,
   "id": "1a7e441b",
   "metadata": {},
   "outputs": [],
   "source": [
    "X = data_sum.drop(columns=[\"TARGET\",\"uid\"])\n",
    "y = data_sum[\"TARGET\"]"
   ]
  },
  {
   "cell_type": "code",
   "execution_count": 35,
   "id": "eb2a23ff",
   "metadata": {},
   "outputs": [],
   "source": [
    "X_train, X_test, y_train, y_test = train_test_split(X, y, test_size=0.2, random_state=42)\n",
    "\n",
    "# Standardize the features\n",
    "scaler = StandardScaler()\n",
    "X_train_scaled = scaler.fit_transform(X_train)\n",
    "X_test_scaled = scaler.transform(X_test)"
   ]
  },
  {
   "cell_type": "code",
   "execution_count": 36,
   "id": "b5cb255b",
   "metadata": {
    "scrolled": true
   },
   "outputs": [
    {
     "data": {
      "text/html": [
       "<div>\n",
       "<style scoped>\n",
       "    .dataframe tbody tr th:only-of-type {\n",
       "        vertical-align: middle;\n",
       "    }\n",
       "\n",
       "    .dataframe tbody tr th {\n",
       "        vertical-align: top;\n",
       "    }\n",
       "\n",
       "    .dataframe thead th {\n",
       "        text-align: right;\n",
       "    }\n",
       "</style>\n",
       "<table border=\"1\" class=\"dataframe\">\n",
       "  <thead>\n",
       "    <tr style=\"text-align: right;\">\n",
       "      <th></th>\n",
       "      <th>model</th>\n",
       "      <th>best_score</th>\n",
       "      <th>best_params</th>\n",
       "    </tr>\n",
       "  </thead>\n",
       "  <tbody>\n",
       "    <tr>\n",
       "      <th>0</th>\n",
       "      <td>logistic_regression</td>\n",
       "      <td>0.529758</td>\n",
       "      <td>{'logisticregression__C': 1000, 'logisticregre...</td>\n",
       "    </tr>\n",
       "    <tr>\n",
       "      <th>1</th>\n",
       "      <td>random_forest</td>\n",
       "      <td>0.516275</td>\n",
       "      <td>{'randomforestclassifier__class_weight': {0: 1...</td>\n",
       "    </tr>\n",
       "    <tr>\n",
       "      <th>2</th>\n",
       "      <td>xgboost</td>\n",
       "      <td>0.538256</td>\n",
       "      <td>{'xgbclassifier__learning_rate': 0.01, 'xgbcla...</td>\n",
       "    </tr>\n",
       "  </tbody>\n",
       "</table>\n",
       "</div>"
      ],
      "text/plain": [
       "                 model  best_score  \\\n",
       "0  logistic_regression    0.529758   \n",
       "1        random_forest    0.516275   \n",
       "2              xgboost    0.538256   \n",
       "\n",
       "                                         best_params  \n",
       "0  {'logisticregression__C': 1000, 'logisticregre...  \n",
       "1  {'randomforestclassifier__class_weight': {0: 1...  \n",
       "2  {'xgbclassifier__learning_rate': 0.01, 'xgbcla...  "
      ]
     },
     "execution_count": 36,
     "metadata": {},
     "output_type": "execute_result"
    }
   ],
   "source": [
    "models = {\n",
    "    \"logistic_regression\": {\n",
    "        \"model\": LogisticRegression(solver=\"liblinear\", multi_class=\"auto\"),\n",
    "        \"params\": {\n",
    "            \"logisticregression__C\": [10, 25, 1000],\n",
    "            \"logisticregression__class_weight\": [{0: 1, 1: 10}]  # Set class weights here\n",
    "        }\n",
    "    },\n",
    "    \"random_forest\": {\n",
    "        \"model\": RandomForestClassifier(),\n",
    "        \"params\": {\n",
    "            \"randomforestclassifier__n_estimators\": [10, 25, 100],\n",
    "            \"randomforestclassifier__class_weight\": [{0: 1, 1: 10}]  # Set class weights here\n",
    "        }\n",
    "    },\n",
    "    \"xgboost\": {\n",
    "        \"model\": xgb.XGBClassifier(),\n",
    "        \"params\": {\n",
    "            \"xgbclassifier__learning_rate\": [0.01, 0.1, 0.2],\n",
    "            \"xgbclassifier__n_estimators\": [50, 100, 200],\n",
    "            \"xgbclassifier__scale_pos_weight\": [10]  # Set class weights here\n",
    "        }\n",
    "    },\n",
    "}\n",
    "\n",
    "scores = []\n",
    "best_estimators = {}\n",
    "\n",
    "for algo, mp in models.items():\n",
    "    pipe = make_pipeline(StandardScaler(), mp[\"model\"])\n",
    "    clf = GridSearchCV(pipe, mp[\"params\"], cv=5, scoring=\"roc_auc\")\n",
    "    clf.fit(X_train_scaled, y_train)\n",
    "    scores.append({\n",
    "        \"model\": algo,\n",
    "        \"best_score\": clf.best_score_,\n",
    "        \"best_params\": clf.best_params_\n",
    "    })\n",
    "    best_estimators[algo] = clf.best_estimator_\n",
    "\n",
    "performance_weighted = pd.DataFrame(scores, columns=[\"model\", \"best_score\", \"best_params\"])\n",
    "performance_weighted"
   ]
  },
  {
   "cell_type": "markdown",
   "id": "b09dc3b8",
   "metadata": {},
   "source": [
    "### SMOTE"
   ]
  },
  {
   "cell_type": "code",
   "execution_count": 37,
   "id": "138790a8",
   "metadata": {},
   "outputs": [
    {
     "name": "stdout",
     "output_type": "stream",
     "text": [
      "###################### Random Forest ######################\n",
      "Accuracy: 0.6534422403733956\n",
      "ROC_AUC: 0.5030828148936294\n",
      "###################### XGBOOST ######################\n",
      "Accuracy: 0.6534422403733956\n",
      "ROC_AUC: 0.5030828148936294\n",
      "###################### Logistic Regression ######################\n",
      "Accuracy: 0.6534422403733956\n",
      "ROC_AUC: 0.5030828148936294\n"
     ]
    }
   ],
   "source": [
    "import pandas as pd\n",
    "from imblearn.over_sampling import SMOTE\n",
    "from sklearn.model_selection import train_test_split\n",
    "from sklearn.preprocessing import StandardScaler\n",
    "from sklearn.ensemble import RandomForestClassifier\n",
    "from sklearn.metrics import classification_report, accuracy_score\n",
    "\n",
    "X = data_sum.drop(columns=[\"TARGET\",\"uid\"])\n",
    "y = data_sum[\"TARGET\"]\n",
    "\n",
    "X_train, X_test, y_train, y_test = train_test_split(X, y, test_size=0.2, random_state=42)\n",
    "\n",
    "# Standardize the features\n",
    "scaler = StandardScaler()\n",
    "X_train_scaled = scaler.fit_transform(X_train)\n",
    "X_test_scaled = scaler.transform(X_test)\n",
    "\n",
    "# Apply SMOTE to balance the classes\n",
    "smote = SMOTE(random_state=42)\n",
    "X_train_resampled, y_train_resampled = smote.fit_resample(X_train_scaled, y_train)\n",
    "\n",
    "# Random Forest\n",
    "print(\"###################### Random Forest ######################\")\n",
    "rf_model = RandomForestClassifier(random_state=42)\n",
    "rf_model.fit(X_train_resampled, y_train_resampled)\n",
    "y_pred = rf_model.predict(X_test_scaled)\n",
    "\n",
    "# Evaluate the performance\n",
    "#print(\"Classification Report:\\n\", classification_report(y_test, y_pred))\n",
    "print(\"Accuracy:\", accuracy_score(y_test, y_pred))\n",
    "print(\"ROC_AUC:\",roc_auc_score(y_pred,y_test))\n",
    "\n",
    "\n",
    "# XGBOOST\n",
    "print(\"###################### XGBOOST ######################\")\n",
    "xgb_model = xgb.XGBClassifier(n_estimators=100, random_state=42)\n",
    "xgb_model.fit(X_train_resampled, y_train_resampled)\n",
    "xgb_predictions = xgb_model.predict(X_test_scaled)\n",
    "\n",
    "#print(\"Classification Report:\\n\", classification_report(y_test, y_pred))\n",
    "print(\"Accuracy:\", accuracy_score(y_test, y_pred))\n",
    "print(\"ROC_AUC:\",roc_auc_score(y_pred,y_test))\n",
    "\n",
    "# Logistics Regression\n",
    "print(\"###################### Logistic Regression ######################\")\n",
    "logreg_model = LogisticRegression()\n",
    "logreg_model.fit(X_train_resampled, y_train_resampled)\n",
    "logreg_predictions = logreg_model.predict(X_test_scaled)\n",
    "\n",
    "\n",
    "#print(\"Classification Report:\\n\", classification_report(y_test, y_pred))\n",
    "print(\"Accuracy:\", accuracy_score(y_test, y_pred))\n",
    "print(\"ROC_AUC:\",roc_auc_score(y_pred,y_test))"
   ]
  },
  {
   "cell_type": "markdown",
   "id": "53a70185",
   "metadata": {},
   "source": [
    "# Comparing Performances\n",
    "\n",
    "##### Although performance_oversample appears to be the best, due to over-sampling, there are considerable chances of data leakage, i.e. the data is testing data explosed to model while training. However, for the purpose of simplicity, we have chosen over-sampling model."
   ]
  },
  {
   "cell_type": "markdown",
   "id": "5dd12e26",
   "metadata": {},
   "source": [
    "# OUTPUT"
   ]
  },
  {
   "cell_type": "code",
   "execution_count": 139,
   "id": "92ae19d8",
   "metadata": {},
   "outputs": [
    {
     "data": {
      "text/html": [
       "<div>\n",
       "<style scoped>\n",
       "    .dataframe tbody tr th:only-of-type {\n",
       "        vertical-align: middle;\n",
       "    }\n",
       "\n",
       "    .dataframe tbody tr th {\n",
       "        vertical-align: top;\n",
       "    }\n",
       "\n",
       "    .dataframe thead th {\n",
       "        text-align: right;\n",
       "    }\n",
       "</style>\n",
       "<table border=\"1\" class=\"dataframe\">\n",
       "  <thead>\n",
       "    <tr style=\"text-align: right;\">\n",
       "      <th></th>\n",
       "      <th>uid</th>\n",
       "      <th>NAME_CONTRACT_TYPE</th>\n",
       "    </tr>\n",
       "  </thead>\n",
       "  <tbody>\n",
       "    <tr>\n",
       "      <th>37456</th>\n",
       "      <td>AAA02107680</td>\n",
       "      <td>cash loans</td>\n",
       "    </tr>\n",
       "    <tr>\n",
       "      <th>16234</th>\n",
       "      <td>AAA14437029</td>\n",
       "      <td>cash loans</td>\n",
       "    </tr>\n",
       "  </tbody>\n",
       "</table>\n",
       "</div>"
      ],
      "text/plain": [
       "               uid NAME_CONTRACT_TYPE\n",
       "37456  AAA02107680         cash loans\n",
       "16234  AAA14437029         cash loans"
      ]
     },
     "execution_count": 139,
     "metadata": {},
     "output_type": "execute_result"
    }
   ],
   "source": [
    "flag = pd.read_csv(\"./data/test/test_flag.csv\")\n",
    "flag.NAME_CONTRACT_TYPE = flag.NAME_CONTRACT_TYPE.str.strip()\n",
    "flag.NAME_CONTRACT_TYPE = flag.NAME_CONTRACT_TYPE.str.lower()\n",
    "flag = flag.sort_values([\"uid\"])\n",
    "flag.head(2)"
   ]
  },
  {
   "cell_type": "code",
   "execution_count": 140,
   "id": "89ba3177",
   "metadata": {},
   "outputs": [
    {
     "data": {
      "text/html": [
       "<div>\n",
       "<style scoped>\n",
       "    .dataframe tbody tr th:only-of-type {\n",
       "        vertical-align: middle;\n",
       "    }\n",
       "\n",
       "    .dataframe tbody tr th {\n",
       "        vertical-align: top;\n",
       "    }\n",
       "\n",
       "    .dataframe thead th {\n",
       "        text-align: right;\n",
       "    }\n",
       "</style>\n",
       "<table border=\"1\" class=\"dataframe\">\n",
       "  <thead>\n",
       "    <tr style=\"text-align: right;\">\n",
       "      <th></th>\n",
       "      <th>credit_type</th>\n",
       "      <th>loan_amount</th>\n",
       "      <th>amount_overdue</th>\n",
       "      <th>open_date</th>\n",
       "      <th>closed_date</th>\n",
       "      <th>payment_hist_string</th>\n",
       "      <th>uid</th>\n",
       "      <th>missed_due_dates</th>\n",
       "      <th>loan_duration</th>\n",
       "    </tr>\n",
       "  </thead>\n",
       "  <tbody>\n",
       "    <tr>\n",
       "      <th>0</th>\n",
       "      <td>consumer credit</td>\n",
       "      <td>31630.50</td>\n",
       "      <td>0.0</td>\n",
       "      <td>2014-03-30</td>\n",
       "      <td>2014-11-29</td>\n",
       "      <td>000000000000000000000000</td>\n",
       "      <td>AAA14437029</td>\n",
       "      <td>0</td>\n",
       "      <td>244</td>\n",
       "    </tr>\n",
       "    <tr>\n",
       "      <th>1</th>\n",
       "      <td>consumer credit</td>\n",
       "      <td>14613.39</td>\n",
       "      <td>0.0</td>\n",
       "      <td>2014-06-01</td>\n",
       "      <td>2014-11-03</td>\n",
       "      <td>000000000000000</td>\n",
       "      <td>AAA14437029</td>\n",
       "      <td>0</td>\n",
       "      <td>155</td>\n",
       "    </tr>\n",
       "  </tbody>\n",
       "</table>\n",
       "</div>"
      ],
      "text/plain": [
       "       credit_type  loan_amount  amount_overdue  open_date closed_date  \\\n",
       "0  consumer credit     31630.50             0.0 2014-03-30  2014-11-29   \n",
       "1  consumer credit     14613.39             0.0 2014-06-01  2014-11-03   \n",
       "\n",
       "        payment_hist_string          uid  missed_due_dates  loan_duration  \n",
       "0  000000000000000000000000  AAA14437029                 0            244  \n",
       "1           000000000000000  AAA14437029                 0            155  "
      ]
     },
     "execution_count": 140,
     "metadata": {},
     "output_type": "execute_result"
    }
   ],
   "source": [
    "with open(\"./data/test/accounts_data_test.json\", \"r\") as file:\n",
    "    data = json.load(file)\n",
    "\n",
    "flattened_data = [item for sublist in data for item in sublist]\n",
    "test_account = json_normalize(flattened_data)\n",
    "\n",
    "test_account[\"open_date\"] = pd.to_datetime(test_account[\"open_date\"])\n",
    "test_account[\"closed_date\"] = pd.to_datetime(test_account[\"closed_date\"])\n",
    "test_account.loc[test_account[\"closed_date\"].isna(),\"closed_date\"] = \"2023-11-29\"\n",
    "test_account.credit_type = test_account.credit_type.str.strip()\n",
    "test_account.credit_type = test_account.credit_type.str.lower()\n",
    "\n",
    "test_account['missed_due_dates'] = test_account['payment_hist_string'].apply(count_missed_due_dates)\n",
    "test_account[\"loan_duration\"] = (test_account[\"closed_date\"]-test_account[\"open_date\"]).dt.days\n",
    "\n",
    "test_account['missed_due_dates'] = test_account['payment_hist_string'].apply(count_missed_due_dates)\n",
    "test_account.loc[test_account[\"closed_date\"].isna(),\"closed_date\"] = \"2023-11-29\"\n",
    "test_account[\"loan_duration\"] = (test_account[\"closed_date\"]-test_account[\"open_date\"]).dt.days\n",
    "test_account.head(2)"
   ]
  },
  {
   "cell_type": "code",
   "execution_count": 141,
   "id": "8f3b44b6",
   "metadata": {},
   "outputs": [
    {
     "data": {
      "text/html": [
       "<div>\n",
       "<style scoped>\n",
       "    .dataframe tbody tr th:only-of-type {\n",
       "        vertical-align: middle;\n",
       "    }\n",
       "\n",
       "    .dataframe tbody tr th {\n",
       "        vertical-align: top;\n",
       "    }\n",
       "\n",
       "    .dataframe thead th {\n",
       "        text-align: right;\n",
       "    }\n",
       "</style>\n",
       "<table border=\"1\" class=\"dataframe\">\n",
       "  <thead>\n",
       "    <tr style=\"text-align: right;\">\n",
       "      <th></th>\n",
       "      <th>enquiry_type</th>\n",
       "      <th>enquiry_amt</th>\n",
       "      <th>enquiry_date</th>\n",
       "      <th>uid</th>\n",
       "    </tr>\n",
       "  </thead>\n",
       "  <tbody>\n",
       "    <tr>\n",
       "      <th>0</th>\n",
       "      <td>car loan</td>\n",
       "      <td>143000</td>\n",
       "      <td>2020-12-13</td>\n",
       "      <td>AAA02107680</td>\n",
       "    </tr>\n",
       "    <tr>\n",
       "      <th>1</th>\n",
       "      <td>real estate loan</td>\n",
       "      <td>174000</td>\n",
       "      <td>2020-12-01</td>\n",
       "      <td>AAA14437029</td>\n",
       "    </tr>\n",
       "  </tbody>\n",
       "</table>\n",
       "</div>"
      ],
      "text/plain": [
       "       enquiry_type  enquiry_amt enquiry_date          uid\n",
       "0          car loan       143000   2020-12-13  AAA02107680\n",
       "1  real estate loan       174000   2020-12-01  AAA14437029"
      ]
     },
     "execution_count": 141,
     "metadata": {},
     "output_type": "execute_result"
    }
   ],
   "source": [
    "with open(\"./data/test/enquiry_data_test.json\", \"r\") as file:\n",
    "    data = json.load(file)\n",
    "\n",
    "flattened_data = [item for sublist in data for item in sublist]\n",
    "test_enquiry = json_normalize(flattened_data)\n",
    "\n",
    "\n",
    "test_enquiry[\"enquiry_date\"] = pd.to_datetime(test_enquiry[\"enquiry_date\"])\n",
    "test_enquiry.enquiry_type = test_enquiry.enquiry_type.str.strip()\n",
    "test_enquiry.enquiry_type = test_enquiry.enquiry_type.str.lower()\n",
    "test_enquiry.head(2)"
   ]
  },
  {
   "cell_type": "code",
   "execution_count": 142,
   "id": "6bf14b5b",
   "metadata": {},
   "outputs": [
    {
     "data": {
      "text/html": [
       "<div>\n",
       "<style scoped>\n",
       "    .dataframe tbody tr th:only-of-type {\n",
       "        vertical-align: middle;\n",
       "    }\n",
       "\n",
       "    .dataframe tbody tr th {\n",
       "        vertical-align: top;\n",
       "    }\n",
       "\n",
       "    .dataframe thead th {\n",
       "        text-align: right;\n",
       "    }\n",
       "</style>\n",
       "<table border=\"1\" class=\"dataframe\">\n",
       "  <thead>\n",
       "    <tr style=\"text-align: right;\">\n",
       "      <th></th>\n",
       "      <th>uid</th>\n",
       "      <th>enquiry_amt</th>\n",
       "      <th>loan_amount</th>\n",
       "      <th>amount_overdue</th>\n",
       "      <th>missed_due_dates</th>\n",
       "      <th>loan_duration</th>\n",
       "    </tr>\n",
       "  </thead>\n",
       "  <tbody>\n",
       "    <tr>\n",
       "      <th>0</th>\n",
       "      <td>AAA02107680</td>\n",
       "      <td>143000.0</td>\n",
       "      <td>NaN</td>\n",
       "      <td>NaN</td>\n",
       "      <td>NaN</td>\n",
       "      <td>NaN</td>\n",
       "    </tr>\n",
       "    <tr>\n",
       "      <th>1</th>\n",
       "      <td>AAA14437029</td>\n",
       "      <td>92250.0</td>\n",
       "      <td>NaN</td>\n",
       "      <td>NaN</td>\n",
       "      <td>NaN</td>\n",
       "      <td>NaN</td>\n",
       "    </tr>\n",
       "  </tbody>\n",
       "</table>\n",
       "</div>"
      ],
      "text/plain": [
       "           uid  enquiry_amt  loan_amount  amount_overdue  missed_due_dates  \\\n",
       "0  AAA02107680     143000.0          NaN             NaN               NaN   \n",
       "1  AAA14437029      92250.0          NaN             NaN               NaN   \n",
       "\n",
       "   loan_duration  \n",
       "0            NaN  \n",
       "1            NaN  "
      ]
     },
     "execution_count": 142,
     "metadata": {},
     "output_type": "execute_result"
    }
   ],
   "source": [
    "test_data = pd.merge(test_enquiry,test_account,left_on=[\"uid\",\"enquiry_type\"],right_on=[\"uid\",\"credit_type\"],how=\"left\")\n",
    "test_data = test_data.groupby(\"uid\").mean().reset_index()\n",
    "test_data.head(2)"
   ]
  },
  {
   "cell_type": "code",
   "execution_count": 143,
   "id": "1b93ade6",
   "metadata": {},
   "outputs": [
    {
     "data": {
      "text/html": [
       "<div>\n",
       "<style scoped>\n",
       "    .dataframe tbody tr th:only-of-type {\n",
       "        vertical-align: middle;\n",
       "    }\n",
       "\n",
       "    .dataframe tbody tr th {\n",
       "        vertical-align: top;\n",
       "    }\n",
       "\n",
       "    .dataframe thead th {\n",
       "        text-align: right;\n",
       "    }\n",
       "</style>\n",
       "<table border=\"1\" class=\"dataframe\">\n",
       "  <thead>\n",
       "    <tr style=\"text-align: right;\">\n",
       "      <th></th>\n",
       "      <th>uid</th>\n",
       "      <th>enquiry_amt</th>\n",
       "      <th>loan_amount</th>\n",
       "      <th>amount_overdue</th>\n",
       "      <th>missed_due_dates</th>\n",
       "      <th>loan_duration</th>\n",
       "    </tr>\n",
       "  </thead>\n",
       "  <tbody>\n",
       "    <tr>\n",
       "      <th>0</th>\n",
       "      <td>AAA02107680</td>\n",
       "      <td>143000.0</td>\n",
       "      <td>0.0</td>\n",
       "      <td>0.0</td>\n",
       "      <td>0.0</td>\n",
       "      <td>0.0</td>\n",
       "    </tr>\n",
       "    <tr>\n",
       "      <th>1</th>\n",
       "      <td>AAA14437029</td>\n",
       "      <td>92250.0</td>\n",
       "      <td>0.0</td>\n",
       "      <td>0.0</td>\n",
       "      <td>0.0</td>\n",
       "      <td>0.0</td>\n",
       "    </tr>\n",
       "  </tbody>\n",
       "</table>\n",
       "</div>"
      ],
      "text/plain": [
       "           uid  enquiry_amt  loan_amount  amount_overdue  missed_due_dates  \\\n",
       "0  AAA02107680     143000.0          0.0             0.0               0.0   \n",
       "1  AAA14437029      92250.0          0.0             0.0               0.0   \n",
       "\n",
       "   loan_duration  \n",
       "0            0.0  \n",
       "1            0.0  "
      ]
     },
     "execution_count": 143,
     "metadata": {},
     "output_type": "execute_result"
    }
   ],
   "source": [
    "test_data = test_data.fillna(0)\n",
    "test_data.head(2)"
   ]
  },
  {
   "cell_type": "code",
   "execution_count": 144,
   "id": "4cebc6e0",
   "metadata": {},
   "outputs": [],
   "source": [
    "# Standardize the features\n",
    "output = scaler.transform(test_data.drop(columns=\"uid\"))"
   ]
  },
  {
   "cell_type": "markdown",
   "id": "550d318a",
   "metadata": {},
   "source": [
    "# Prediction"
   ]
  },
  {
   "cell_type": "code",
   "execution_count": 145,
   "id": "e0f09bb3",
   "metadata": {},
   "outputs": [],
   "source": [
    "# Run The Below code Before Running the final Cell (To make sure value of best_estimators not over-writed )\n",
    "\n",
    "\n",
    "data_sum = data_sum[~data_sum.loan_duration.isna()]\n",
    "data_0 = data_sum[data_sum[\"TARGET\"]==0]\n",
    "data_1 = data_sum[data_sum[\"TARGET\"]==1].sample(240000,replace=True)\n",
    "con_data = pd.concat([data_0,data_1],axis=0)\n",
    "\n",
    "\n",
    "X = con_data.drop(columns=[\"TARGET\",\"uid\"])\n",
    "y = con_data[\"TARGET\"]\n",
    "\n",
    "X_train, X_test, y_train, y_test = train_test_split(X, y, test_size=0.2, random_state=42)\n",
    "\n",
    "# Standardize the features\n",
    "scaler = StandardScaler()\n",
    "X_train_scaled = scaler.fit_transform(X_train)\n",
    "X_test_scaled = scaler.transform(X_test)"
   ]
  },
  {
   "cell_type": "code",
   "execution_count": 33,
   "id": "85013649",
   "metadata": {},
   "outputs": [
    {
     "data": {
      "text/html": [
       "<div>\n",
       "<style scoped>\n",
       "    .dataframe tbody tr th:only-of-type {\n",
       "        vertical-align: middle;\n",
       "    }\n",
       "\n",
       "    .dataframe tbody tr th {\n",
       "        vertical-align: top;\n",
       "    }\n",
       "\n",
       "    .dataframe thead th {\n",
       "        text-align: right;\n",
       "    }\n",
       "</style>\n",
       "<table border=\"1\" class=\"dataframe\">\n",
       "  <thead>\n",
       "    <tr style=\"text-align: right;\">\n",
       "      <th></th>\n",
       "      <th>model</th>\n",
       "      <th>best_score</th>\n",
       "      <th>best_params</th>\n",
       "    </tr>\n",
       "  </thead>\n",
       "  <tbody>\n",
       "    <tr>\n",
       "      <th>0</th>\n",
       "      <td>logistic_regression</td>\n",
       "      <td>0.531697</td>\n",
       "      <td>{'logisticregression__C': 10}</td>\n",
       "    </tr>\n",
       "    <tr>\n",
       "      <th>1</th>\n",
       "      <td>random_forest</td>\n",
       "      <td>0.856509</td>\n",
       "      <td>{'randomforestclassifier__n_estimators': 100}</td>\n",
       "    </tr>\n",
       "    <tr>\n",
       "      <th>2</th>\n",
       "      <td>xgboost</td>\n",
       "      <td>0.644677</td>\n",
       "      <td>{'xgbclassifier__learning_rate': 0.2, 'xgbclas...</td>\n",
       "    </tr>\n",
       "  </tbody>\n",
       "</table>\n",
       "</div>"
      ],
      "text/plain": [
       "                 model  best_score  \\\n",
       "0  logistic_regression    0.531697   \n",
       "1        random_forest    0.856509   \n",
       "2              xgboost    0.644677   \n",
       "\n",
       "                                         best_params  \n",
       "0                      {'logisticregression__C': 10}  \n",
       "1      {'randomforestclassifier__n_estimators': 100}  \n",
       "2  {'xgbclassifier__learning_rate': 0.2, 'xgbclas...  "
      ]
     },
     "execution_count": 33,
     "metadata": {},
     "output_type": "execute_result"
    }
   ],
   "source": [
    "scores = []\n",
    "best_estimators = {}\n",
    "\n",
    "for algo, mp in models.items():\n",
    "    pipe = make_pipeline(StandardScaler(), mp[\"model\"])\n",
    "    clf = GridSearchCV(pipe, mp[\"params\"], cv=5, scoring=\"roc_auc\")\n",
    "    clf.fit(X_train_scaled, y_train)\n",
    "    scores.append({\n",
    "        \"model\": algo,\n",
    "        \"best_score\": clf.best_score_,\n",
    "        \"best_params\": clf.best_params_\n",
    "    })\n",
    "    best_estimators[algo] = clf.best_estimator_\n",
    "\n",
    "performance_oversampling = pd.DataFrame(scores, columns=[\"model\", \"best_score\", \"best_params\"])\n",
    "performance_oversampling"
   ]
  },
  {
   "cell_type": "code",
   "execution_count": 146,
   "id": "dfd9e32e",
   "metadata": {},
   "outputs": [],
   "source": [
    "# Let's keep the threshold to be default threshold (i.e.) for simplicity\n",
    "\n",
    "best = best_estimators[\"random_forest\"]\n",
    "clf_into_class = best.predict(output)\n",
    "probabilities = best.predict_proba(output)"
   ]
  },
  {
   "cell_type": "code",
   "execution_count": 147,
   "id": "55da0f40",
   "metadata": {},
   "outputs": [
    {
     "data": {
      "text/html": [
       "<div>\n",
       "<style scoped>\n",
       "    .dataframe tbody tr th:only-of-type {\n",
       "        vertical-align: middle;\n",
       "    }\n",
       "\n",
       "    .dataframe tbody tr th {\n",
       "        vertical-align: top;\n",
       "    }\n",
       "\n",
       "    .dataframe thead th {\n",
       "        text-align: right;\n",
       "    }\n",
       "</style>\n",
       "<table border=\"1\" class=\"dataframe\">\n",
       "  <thead>\n",
       "    <tr style=\"text-align: right;\">\n",
       "      <th></th>\n",
       "      <th>uid</th>\n",
       "      <th>enquiry_amt</th>\n",
       "      <th>loan_amount</th>\n",
       "      <th>amount_overdue</th>\n",
       "      <th>missed_due_dates</th>\n",
       "      <th>loan_duration</th>\n",
       "      <th>TARGET</th>\n",
       "    </tr>\n",
       "  </thead>\n",
       "  <tbody>\n",
       "    <tr>\n",
       "      <th>0</th>\n",
       "      <td>AAA02107680</td>\n",
       "      <td>143000.0</td>\n",
       "      <td>0.0</td>\n",
       "      <td>0.0</td>\n",
       "      <td>0.0</td>\n",
       "      <td>0.0</td>\n",
       "      <td>0</td>\n",
       "    </tr>\n",
       "    <tr>\n",
       "      <th>1</th>\n",
       "      <td>AAA14437029</td>\n",
       "      <td>92250.0</td>\n",
       "      <td>0.0</td>\n",
       "      <td>0.0</td>\n",
       "      <td>0.0</td>\n",
       "      <td>0.0</td>\n",
       "      <td>0</td>\n",
       "    </tr>\n",
       "  </tbody>\n",
       "</table>\n",
       "</div>"
      ],
      "text/plain": [
       "           uid  enquiry_amt  loan_amount  amount_overdue  missed_due_dates  \\\n",
       "0  AAA02107680     143000.0          0.0             0.0               0.0   \n",
       "1  AAA14437029      92250.0          0.0             0.0               0.0   \n",
       "\n",
       "   loan_duration  TARGET  \n",
       "0            0.0       0  \n",
       "1            0.0       0  "
      ]
     },
     "execution_count": 147,
     "metadata": {},
     "output_type": "execute_result"
    }
   ],
   "source": [
    "# ADD TARGET column to test_data dataframe\n",
    "test_data[\"TARGET\"] = clf_into_class\n",
    "test_data.head(2)"
   ]
  },
  {
   "cell_type": "code",
   "execution_count": 148,
   "id": "4272947d",
   "metadata": {},
   "outputs": [
    {
     "data": {
      "text/html": [
       "<div>\n",
       "<style scoped>\n",
       "    .dataframe tbody tr th:only-of-type {\n",
       "        vertical-align: middle;\n",
       "    }\n",
       "\n",
       "    .dataframe tbody tr th {\n",
       "        vertical-align: top;\n",
       "    }\n",
       "\n",
       "    .dataframe thead th {\n",
       "        text-align: right;\n",
       "    }\n",
       "</style>\n",
       "<table border=\"1\" class=\"dataframe\">\n",
       "  <thead>\n",
       "    <tr style=\"text-align: right;\">\n",
       "      <th></th>\n",
       "      <th>uid</th>\n",
       "      <th>NAME_CONTRACT_TYPE</th>\n",
       "    </tr>\n",
       "  </thead>\n",
       "  <tbody>\n",
       "    <tr>\n",
       "      <th>37456</th>\n",
       "      <td>AAA02107680</td>\n",
       "      <td>cash loans</td>\n",
       "    </tr>\n",
       "    <tr>\n",
       "      <th>16234</th>\n",
       "      <td>AAA14437029</td>\n",
       "      <td>cash loans</td>\n",
       "    </tr>\n",
       "  </tbody>\n",
       "</table>\n",
       "</div>"
      ],
      "text/plain": [
       "               uid NAME_CONTRACT_TYPE\n",
       "37456  AAA02107680         cash loans\n",
       "16234  AAA14437029         cash loans"
      ]
     },
     "execution_count": 148,
     "metadata": {},
     "output_type": "execute_result"
    }
   ],
   "source": [
    "flag = pd.read_csv(\"./data/test/test_flag.csv\")\n",
    "flag.NAME_CONTRACT_TYPE = flag.NAME_CONTRACT_TYPE.str.strip()\n",
    "flag.NAME_CONTRACT_TYPE = flag.NAME_CONTRACT_TYPE.str.lower()\n",
    "flag = flag.sort_values([\"uid\"])\n",
    "flag.head(2)"
   ]
  },
  {
   "cell_type": "code",
   "execution_count": 149,
   "id": "ef100117",
   "metadata": {},
   "outputs": [
    {
     "data": {
      "text/html": [
       "<div>\n",
       "<style scoped>\n",
       "    .dataframe tbody tr th:only-of-type {\n",
       "        vertical-align: middle;\n",
       "    }\n",
       "\n",
       "    .dataframe tbody tr th {\n",
       "        vertical-align: top;\n",
       "    }\n",
       "\n",
       "    .dataframe thead th {\n",
       "        text-align: right;\n",
       "    }\n",
       "</style>\n",
       "<table border=\"1\" class=\"dataframe\">\n",
       "  <thead>\n",
       "    <tr style=\"text-align: right;\">\n",
       "      <th></th>\n",
       "      <th>uid</th>\n",
       "      <th>NAME_CONTRACT_TYPE</th>\n",
       "      <th>TARGET</th>\n",
       "    </tr>\n",
       "  </thead>\n",
       "  <tbody>\n",
       "    <tr>\n",
       "      <th>0</th>\n",
       "      <td>AAA02107680</td>\n",
       "      <td>cash loans</td>\n",
       "      <td>0</td>\n",
       "    </tr>\n",
       "    <tr>\n",
       "      <th>1</th>\n",
       "      <td>AAA14437029</td>\n",
       "      <td>cash loans</td>\n",
       "      <td>0</td>\n",
       "    </tr>\n",
       "  </tbody>\n",
       "</table>\n",
       "</div>"
      ],
      "text/plain": [
       "           uid NAME_CONTRACT_TYPE  TARGET\n",
       "0  AAA02107680         cash loans       0\n",
       "1  AAA14437029         cash loans       0"
      ]
     },
     "execution_count": 149,
     "metadata": {},
     "output_type": "execute_result"
    }
   ],
   "source": [
    "final_output = pd.merge(flag,test_data[[\"uid\",\"TARGET\"]],on=\"uid\")\n",
    "final_output.head(2)"
   ]
  },
  {
   "cell_type": "code",
   "execution_count": 160,
   "id": "d037bfe9",
   "metadata": {},
   "outputs": [],
   "source": [
    "final_output.to_csv(\"Kalpak_Choudhari.csv\")"
   ]
  },
  {
   "cell_type": "code",
   "execution_count": 163,
   "id": "b05d9ca1",
   "metadata": {},
   "outputs": [
    {
     "data": {
      "text/plain": [
       "0    45657\n",
       "1      470\n",
       "Name: TARGET, dtype: int64"
      ]
     },
     "execution_count": 163,
     "metadata": {},
     "output_type": "execute_result"
    }
   ],
   "source": [
    "p = pd.read_csv(\"Kalpak_Choudhari.csv\")\n",
    "p[\"TARGET\"].value_counts()"
   ]
  },
  {
   "cell_type": "code",
   "execution_count": null,
   "id": "c873fc84",
   "metadata": {},
   "outputs": [],
   "source": []
  }
 ],
 "metadata": {
  "hide_input": false,
  "kernelspec": {
   "display_name": "Python 3 (ipykernel)",
   "language": "python",
   "name": "python3"
  },
  "language_info": {
   "codemirror_mode": {
    "name": "ipython",
    "version": 3
   },
   "file_extension": ".py",
   "mimetype": "text/x-python",
   "name": "python",
   "nbconvert_exporter": "python",
   "pygments_lexer": "ipython3",
   "version": "3.9.7"
  }
 },
 "nbformat": 4,
 "nbformat_minor": 5
}
